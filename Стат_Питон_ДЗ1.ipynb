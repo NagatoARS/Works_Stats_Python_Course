{
  "nbformat": 4,
  "nbformat_minor": 0,
  "metadata": {
    "colab": {
      "provenance": [],
      "authorship_tag": "ABX9TyMp/5Cm7pwF5J9zRb5X/AK5",
      "include_colab_link": true
    },
    "kernelspec": {
      "name": "python3",
      "display_name": "Python 3"
    },
    "language_info": {
      "name": "python"
    }
  },
  "cells": [
    {
      "cell_type": "markdown",
      "metadata": {
        "id": "view-in-github",
        "colab_type": "text"
      },
      "source": [
        "<a href=\"https://colab.research.google.com/github/NagatoARS/Works_Stats_Python_Course/blob/main/%D0%A1%D1%82%D0%B0%D1%82_%D0%9F%D0%B8%D1%82%D0%BE%D0%BD_%D0%94%D0%971.ipynb\" target=\"_parent\"><img src=\"https://colab.research.google.com/assets/colab-badge.svg\" alt=\"Open In Colab\"/></a>"
      ]
    },
    {
      "cell_type": "markdown",
      "source": [
        "Задание 1"
      ],
      "metadata": {
        "id": "hrDHr_2BjW4a"
      }
    },
    {
      "cell_type": "code",
      "execution_count": null,
      "metadata": {
        "id": "BR-ZoAYpQxOZ"
      },
      "outputs": [],
      "source": [
        "import pandas as pd\n",
        "horse_data = pd.read_csv('horse_data.csv', names = ['surgery', 'age', 'Hospital_Number', 'rectal_temperature',\\\n",
        "                                                    'pulse', 'respiratory_rate', 'temperature_of_extremities', \\\n",
        "                                                    'peripheral_pulse', 'mucous_membranes', 'capillary_refill_time', \\\n",
        "                                                    'pain', 'peristalsis', 'abdominal_distension', 'nasogastric_tube', \\\n",
        "                                                    'nasogastric_reflux', 'nasogastric_reflux_PH', 'rectal_examination_-_feces',\\\n",
        "                                                    'abdomen', 'packed_cell_volume', 'total_protein', \\\n",
        "                                                    'abdominocentesis_appearance', 'abdomcentesis_total_protein', 'outcome', \\\n",
        "                                                    'surgical_lesion?', 'site_of_lesion', 'type', 'specific_code', 'cp_data'], \\\n",
        "                         sep = ',', header=0, na_values='?')\n",
        "horse_data\n",
        "\n",
        "horse_data = horse_data[['surgery', 'age', 'rectal_temperature', 'pulse', 'respiratory_rate', 'temperature_of_extremities', \\\n",
        "                         'pain', 'outcome']]\n",
        "horse_data['surgery'] = horse_data.surgery.astype('Int64')\n",
        "horse_data['pain'] = horse_data.pain.astype('Int64')\n",
        "horse_data['outcome'] = horse_data.outcome.astype('Int64')\n",
        "horse_data"
      ]
    },
    {
      "cell_type": "markdown",
      "source": [
        "Задание 2"
      ],
      "metadata": {
        "id": "Wr2zOo-mkvSe"
      }
    },
    {
      "cell_type": "code",
      "source": [
        "print(horse_data['surgery'].unique())\n",
        "print(horse_data['age'].unique())\n",
        "print(horse_data['rectal_temperature'].unique())\n",
        "print(horse_data['pulse'].unique())\n",
        "print(horse_data['respiratory_rate'].unique())\n",
        "print(horse_data['temperature_of_extremities'].unique())\n",
        "print(horse_data['pain'].unique())\n",
        "print(horse_data['outcome'].unique())\n",
        "\n",
        "horse_data['age'] = horse_data.age.apply(lambda x: 2 if x == 9 else x)\n",
        "horse_data"
      ],
      "metadata": {
        "id": "IjONiF0wYiaa"
      },
      "execution_count": null,
      "outputs": []
    },
    {
      "cell_type": "code",
      "source": [],
      "metadata": {
        "id": "RHFksKOylBVa"
      },
      "execution_count": null,
      "outputs": []
    },
    {
      "cell_type": "code",
      "source": [
        "print('Операция:', horse_data['surgery'].mode()[0])\n",
        "print('Возраст:', horse_data['age'].mode()[0])\n",
        "print('Ректальная температура:', horse_data['rectal_temperature'].mode()[0])\n",
        "print('Пульс:', horse_data['pulse'].mode()[0])\n",
        "print('Частота дыхания:', horse_data['respiratory_rate'].mode()[0])\n",
        "print('Температура конечностей:', horse_data['temperature_of_extremities'].mode()[0])\n",
        "print('Боль:', horse_data['pain'].mode()[0])\n",
        "print('Результат:', horse_data['outcome'].mode()[0])"
      ],
      "metadata": {
        "id": "Td72iTRmZmZ0"
      },
      "execution_count": null,
      "outputs": []
    },
    {
      "cell_type": "code",
      "source": [
        "# Дисперсии\n",
        "print('Операция:', horse_data['surgery'].var())\n",
        "print('Возраст:', horse_data['age'].var())\n",
        "print('Ректальная температура:', horse_data['rectal_temperature'].var())\n",
        "print('Пульс:', horse_data['pulse'].var())\n",
        "print('Частота дыхания:', horse_data['respiratory_rate'].var())\n",
        "print('Температура конечностей:', horse_data['temperature_of_extremities'].var())\n",
        "print('Боль:', horse_data['pain'].var())\n",
        "print('Результат:', horse_data['outcome'].var())"
      ],
      "metadata": {
        "id": "FSSTxq0clLc5"
      },
      "execution_count": null,
      "outputs": []
    },
    {
      "cell_type": "code",
      "source": [
        "Q1_surgery = horse_data['surgery'].quantile(0.25)\n",
        "Q3_surgery = horse_data['surgery'].quantile(0.75)\n",
        "IQR_surgery = Q3_surgery - Q1_surgery\n",
        "print('Операция:', IQR_surgery)\n",
        "\n",
        "Q1_age = horse_data['age'].quantile(0.25)\n",
        "Q3_age = horse_data['age'].quantile(0.75)\n",
        "IQR_age = Q3_age - Q1_age\n",
        "print('Возраст:', IQR_age)\n",
        "\n",
        "Q1_rectal_temperature = horse_data['rectal_temperature'].quantile(0.25)\n",
        "Q3_rectal_temperature = horse_data['rectal_temperature'].quantile(0.75)\n",
        "IQR_rectal_temperature = Q3_rectal_temperature - Q1_rectal_temperature\n",
        "print('Ректальная температура:', IQR_rectal_temperature)\n",
        "\n",
        "Q1_pulse = horse_data['pulse'].quantile(0.25)\n",
        "Q3_pulse = horse_data['pulse'].quantile(0.75)\n",
        "IQR_pulse = Q3_pulse - Q1_pulse\n",
        "print('Пульс:', IQR_pulse)\n",
        "\n",
        "Q1_respiratory_rate = horse_data['respiratory_rate'].quantile(0.25)\n",
        "Q3_respiratory_rate = horse_data['respiratory_rate'].quantile(0.75)\n",
        "IQR_respiratory_rate = Q3_respiratory_rate - Q1_respiratory_rate\n",
        "print('Частота дыхания:', IQR_respiratory_rate)\n",
        "\n",
        "Q1_temperature_of_extremities = horse_data['temperature_of_extremities'].quantile(0.25)\n",
        "Q3_temperature_of_extremities = horse_data['temperature_of_extremities'].quantile(0.75)\n",
        "IQR_temperature_of_extremities = Q3_temperature_of_extremities - Q1_temperature_of_extremities\n",
        "print('Температура конечностей:', IQR_temperature_of_extremities)\n",
        "\n",
        "Q1_pain = horse_data['pain'].quantile(0.25)\n",
        "Q3_pain = horse_data['pain'].quantile(0.75)\n",
        "IQR_pain = Q3_pain - Q1_pain\n",
        "print('Боль:', IQR_pain)\n",
        "\n",
        "Q1_outcome = horse_data['outcome'].quantile(0.25)\n",
        "Q3_outcome = horse_data['outcome'].quantile(0.75)\n",
        "IQR_outcome = Q3_outcome - Q1_outcome\n",
        "print('Результат:', IQR_outcome)"
      ],
      "metadata": {
        "id": "wW1M5lBylbRm"
      },
      "execution_count": null,
      "outputs": []
    },
    {
      "cell_type": "code",
      "source": [
        "lower_bound_surgery = Q1_surgery - (1.5 * IQR_surgery) \n",
        "upper_bound_surgery = Q3_surgery + (1.5 * IQR_surgery)\n",
        "remove_outliers_surgery = horse_data[horse_data['surgery']\\\n",
        "                        .between(lower_bound_surgery, upper_bound_surgery, inclusive=True)].sort_values('outcome')\n",
        "outliers_surgery = pd.concat([horse_data, remove_outliers_surgery]).drop_duplicates(keep=False)\n",
        "outliers_surgery.head()"
      ],
      "metadata": {
        "id": "agvAH_RAlNbP"
      },
      "execution_count": null,
      "outputs": []
    },
    {
      "cell_type": "code",
      "source": [
        "lower_bound_age = Q1_age - (1.5 * IQR_age) \n",
        "upper_bound_age = Q3_age + (1.5 * IQR_age)\n",
        "remove_outliers_age = horse_data[horse_data['age']\\\n",
        "                        .between(lower_bound_age, upper_bound_age, inclusive=True)].sort_values('outcome')\n",
        "outliers_age = pd.concat([horse_data, remove_outliers_age]).drop_duplicates(keep=False)\n",
        "outliers_age.head()"
      ],
      "metadata": {
        "id": "SfMnbLATlinb"
      },
      "execution_count": null,
      "outputs": []
    },
    {
      "cell_type": "code",
      "source": [
        "outliers_age['age'].value_counts()"
      ],
      "metadata": {
        "id": "taQ-JhxAZ084"
      },
      "execution_count": null,
      "outputs": []
    },
    {
      "cell_type": "code",
      "source": [
        "lower_bound_rectal_temperature = Q1_rectal_temperature - (1.5 * IQR_rectal_temperature) \n",
        "upper_bound_rectal_temperature = Q3_rectal_temperature + (1.5 * IQR_rectal_temperature)\n",
        "remove_outliers_rectal_temperature = horse_data[horse_data['rectal_temperature']\\\n",
        "                                     .between(lower_bound_rectal_temperature, upper_bound_rectal_temperature, inclusive=True)]\\\n",
        "                                     .sort_values('outcome')\n",
        "outliers_rectal_temperature = pd.concat([horse_data, remove_outliers_rectal_temperature]).drop_duplicates(keep=False)\n",
        "outliers_rectal_temperature.head()"
      ],
      "metadata": {
        "id": "Fd6kRvj4lmbX"
      },
      "execution_count": null,
      "outputs": []
    },
    {
      "cell_type": "code",
      "source": [
        "outliers_rectal_temperature['rectal_temperature'].value_counts()"
      ],
      "metadata": {
        "id": "oF-JbRBl1Tel"
      },
      "execution_count": null,
      "outputs": []
    },
    {
      "cell_type": "code",
      "source": [
        "lower_bound_pulse = Q1_pulse - (1.5 * IQR_pulse) \n",
        "upper_bound_pulse = Q3_pulse + (1.5 * IQR_pulse)\n",
        "remove_outliers_pulse = horse_data[horse_data['pulse']\\\n",
        "                        .between(lower_bound_pulse, upper_bound_pulse, inclusive=True)].sort_values('outcome')\n",
        "outliers_pulse = pd.concat([horse_data, remove_outliers_pulse]).drop_duplicates(keep=False)\n",
        "outliers_pulse.head()"
      ],
      "metadata": {
        "id": "0c51Flx9Z35T"
      },
      "execution_count": null,
      "outputs": []
    },
    {
      "cell_type": "code",
      "source": [
        "outliers_pulse['pulse'].value_counts()"
      ],
      "metadata": {
        "id": "Zb7vza9wZ5TR"
      },
      "execution_count": null,
      "outputs": []
    },
    {
      "cell_type": "code",
      "source": [
        "lower_bound_respiratory_rate = Q1_respiratory_rate - (1.5 * IQR_respiratory_rate) \n",
        "upper_bound_respiratory_rate = Q3_respiratory_rate + (1.5 * IQR_respiratory_rate)\n",
        "remove_outliers_respiratory_rate = horse_data[horse_data['respiratory_rate']\\\n",
        "                                   .between(lower_bound_respiratory_rate, upper_bound_respiratory_rate, inclusive=True)]\\\n",
        "                                   .sort_values('outcome')\n",
        "outliers_respiratory_rate = pd.concat([horse_data, remove_outliers_respiratory_rate]).drop_duplicates(keep=False)\n",
        "outliers_respiratory_rate.head()"
      ],
      "metadata": {
        "id": "VNtyoznLZ6h5"
      },
      "execution_count": null,
      "outputs": []
    },
    {
      "cell_type": "code",
      "source": [
        "outliers_respiratory_rate['respiratory_rate'].value_counts()"
      ],
      "metadata": {
        "id": "60MW1Xbva6ql"
      },
      "execution_count": null,
      "outputs": []
    },
    {
      "cell_type": "code",
      "source": [
        "lower_bound_temperature_of_extremities = Q1_temperature_of_extremities - (1.5 * IQR_temperature_of_extremities) \n",
        "upper_bound_temperature_of_extremities = Q3_temperature_of_extremities + (1.5 * IQR_temperature_of_extremities)\n",
        "remove_outliers_temperature_of_extremities = horse_data[horse_data['temperature_of_extremities']\\\n",
        "                                             .between(lower_bound_temperature_of_extremities,\\\n",
        "                                             upper_bound_temperature_of_extremities, inclusive=True)]\\\n",
        "                                             .sort_values('outcome')\n",
        "outliers_temperature_of_extremities = pd.concat([horse_data, remove_outliers_temperature_of_extremities]).drop_duplicates(keep=False)\n",
        "outliers_temperature_of_extremities.head()"
      ],
      "metadata": {
        "id": "vARH63aGa8Bi"
      },
      "execution_count": null,
      "outputs": []
    },
    {
      "cell_type": "code",
      "source": [
        "outliers_temperature_of_extremities['temperature_of_extremities'].value_counts()"
      ],
      "metadata": {
        "id": "DzcnKmEna9h0"
      },
      "execution_count": null,
      "outputs": []
    },
    {
      "cell_type": "code",
      "source": [
        "lower_bound_pain = Q1_pain - (1.5 * IQR_pain) \n",
        "upper_bound_pain = Q3_pain + (1.5 * IQR_pain)\n",
        "remove_outliers_pain = horse_data[horse_data['pain']\\\n",
        "                       .between(lower_bound_pain, upper_bound_pain, inclusive=True)].sort_values('outcome')\n",
        "outliers_pain = pd.concat([horse_data, remove_outliers_pain]).drop_duplicates(keep=False)\n",
        "outliers_pain.head()"
      ],
      "metadata": {
        "id": "aHTdbOT-a98J"
      },
      "execution_count": null,
      "outputs": []
    },
    {
      "cell_type": "code",
      "source": [
        "outliers_pain['pain'].value_counts()"
      ],
      "metadata": {
        "id": "e1fyHDAEa_B_"
      },
      "execution_count": null,
      "outputs": []
    },
    {
      "cell_type": "code",
      "source": [
        "lower_bound_outcome = Q1_outcome - (1.5 * IQR_outcome) \n",
        "upper_bound_outcome = Q3_outcome + (1.5 * IQR_outcome)\n",
        "remove_outliers_outcome = horse_data[horse_data['outcome']\\\n",
        "                       .between(lower_bound_outcome, upper_bound_outcome, inclusive=True)].sort_values('outcome')\n",
        "outliers_outcome = pd.concat([horse_data, remove_outliers_outcome]).drop_duplicates(keep=False)\n",
        "outliers_outcome.head()"
      ],
      "metadata": {
        "id": "d_zYEWgfbATP"
      },
      "execution_count": null,
      "outputs": []
    },
    {
      "cell_type": "markdown",
      "source": [
        "Задание 3"
      ],
      "metadata": {
        "id": "Jge4iGUilq0x"
      }
    },
    {
      "cell_type": "code",
      "source": [
        "horse_data_fill = horse_data\n",
        "horse_data_fill"
      ],
      "metadata": {
        "id": "ybNQ_DQ-lmm-"
      },
      "execution_count": null,
      "outputs": []
    },
    {
      "cell_type": "code",
      "source": [
        "horse_data_fill.info()"
      ],
      "metadata": {
        "id": "qEmAt7bd1fhf"
      },
      "execution_count": null,
      "outputs": []
    },
    {
      "cell_type": "code",
      "source": [
        "(horse_data_fill.isna().mean() * 100).round(2)"
      ],
      "metadata": {
        "id": "wa-1xidA1grt"
      },
      "execution_count": null,
      "outputs": []
    },
    {
      "cell_type": "code",
      "source": [
        "horse_data_fill['surgery'].fillna(horse_data_fill['surgery'].mode()[0], inplace=True)\n",
        "print(horse_data_fill['surgery'].isna().sum())\n",
        "print(horse_data_fill['surgery'].unique())"
      ],
      "metadata": {
        "id": "Hzi7QpyI1iLK"
      },
      "execution_count": null,
      "outputs": []
    },
    {
      "cell_type": "code",
      "source": [
        "horse_data_fill['outcome'].fillna(horse_data_fill['outcome'].mode()[0], inplace=True)\n",
        "print(horse_data_fill['outcome'].isna().sum())\n",
        "print(horse_data_fill['outcome'].unique())"
      ],
      "metadata": {
        "id": "kHB4KnOF1jgC"
      },
      "execution_count": null,
      "outputs": []
    },
    {
      "cell_type": "code",
      "source": [
        "fill_median = horse_data_fill\n",
        "\n",
        "fill_median['pain'].fillna(horse_data_fill['pain'].median(), inplace=True)\n",
        "print(fill_median['pain'].fillna(horse_data_fill['pain'].median()).isna().sum())\n",
        "print(fill_median['pain'].unique())"
      ],
      "metadata": {
        "id": "AI7s-Hr-1mQx"
      },
      "execution_count": null,
      "outputs": []
    },
    {
      "cell_type": "code",
      "source": [
        "print(fill_median['pain'].describe())"
      ],
      "metadata": {
        "id": "rjtE7Q9L1sAf"
      },
      "execution_count": null,
      "outputs": []
    },
    {
      "cell_type": "code",
      "source": [
        "fill_moda = horse_data_fill\n",
        "\n",
        "fill_moda['pain'].fillna(horse_data_fill['pain'].mode()[0], inplace=True)\n",
        "print(fill_moda['pain'].isna().sum())\n",
        "print(fill_moda['pain'].unique())"
      ],
      "metadata": {
        "id": "iOeIDcWd1osM"
      },
      "execution_count": null,
      "outputs": []
    },
    {
      "cell_type": "code",
      "source": [
        "print(fill_moda['pain'].describe())"
      ],
      "metadata": {
        "id": "UooqhMB31siQ"
      },
      "execution_count": null,
      "outputs": []
    },
    {
      "cell_type": "code",
      "source": [
        "horse_data_fill['pain'].fillna(horse_data_fill['pain'].mode()[0], inplace=True)\n",
        "print(horse_data_fill['pain'].isna().sum())\n",
        "print(horse_data_fill['pain'].unique())"
      ],
      "metadata": {
        "id": "GRdM6OYI1ue8"
      },
      "execution_count": null,
      "outputs": []
    },
    {
      "cell_type": "code",
      "source": [
        "horse_data_fill['rectal_temperature'].fillna(horse_data_fill.groupby(['surgery', 'age'])['rectal_temperature'].transform('median'), inplace=True)\n",
        "horse_data_fill['pulse'].fillna(horse_data_fill.groupby(['pain', 'age'])['pulse'].transform('median'), inplace=True)\n",
        "horse_data_fill['temperature_of_extremities'].fillna(horse_data_fill.groupby(['age', 'outcome'])['temperature_of_extremities'].transform('median'), inplace=True)\n",
        "horse_data_fill['respiratory_rate'].fillna(horse_data_fill.groupby(['outcome', 'age'])['respiratory_rate'].transform('median'), inplace=True)"
      ],
      "metadata": {
        "id": "rAG7YvbR1yQ7"
      },
      "execution_count": null,
      "outputs": []
    },
    {
      "cell_type": "code",
      "source": [
        "horse_data_fill['respiratory_rate'].fillna(horse_data_fill['respiratory_rate'].median(), inplace=True)"
      ],
      "metadata": {
        "id": "zgNs4HcX1yxz"
      },
      "execution_count": null,
      "outputs": []
    },
    {
      "cell_type": "code",
      "source": [
        "print(horse_data_fill.groupby(['surgery', 'age'])['respiratory_rate'].median())\n",
        "fill_median_by_groups = horse_data_fill\n",
        "fill_median_by_groups['respiratory_rate'].fillna(horse_data_fill.groupby(['surgery', 'age'])['respiratory_rate'].transform('median'), inplace=True)"
      ],
      "metadata": {
        "id": "zx1rpGZd10dY"
      },
      "execution_count": null,
      "outputs": []
    },
    {
      "cell_type": "code",
      "source": [
        "print(horse_data_fill.groupby(['surgery', 'pain'])['respiratory_rate'].median())\n",
        "fill_median_by_groups = horse_data_fill\n",
        "fill_median_by_groups['respiratory_rate'].fillna(horse_data_fill.groupby(['surgery', 'pain'])['respiratory_rate'].transform('median'), inplace=True)"
      ],
      "metadata": {
        "id": "HQOG2zO22Ihc"
      },
      "execution_count": null,
      "outputs": []
    },
    {
      "cell_type": "code",
      "source": [
        "print(horse_data_fill.groupby(['surgery', 'outcome'])['respiratory_rate'].median())\n",
        "fill_median_by_groups = horse_data_fill\n",
        "fill_median_by_groups['respiratory_rate'].fillna(horse_data_fill.groupby(['surgery', 'outcome'])['respiratory_rate']."
      ],
      "metadata": {
        "id": "iSgyPbg6bVcA"
      },
      "execution_count": null,
      "outputs": []
    },
    {
      "cell_type": "code",
      "source": [
        "print(horse_data_fill.groupby(['age', 'surgery'])['respiratory_rate'].median())\n",
        "fill_median_by_groups = horse_data_fill\n",
        "fill_median_by_groups['respiratory_rate'].fillna(horse_data_fill.groupby(['age', 'surgery'])['respiratory_rate'].transform"
      ],
      "metadata": {
        "id": "PRkfPEe-bV6V"
      },
      "execution_count": null,
      "outputs": []
    },
    {
      "cell_type": "code",
      "source": [
        "print(horse_data_fill.groupby(['age', 'pain'])['respiratory_rate'].median())\n",
        "fill_median_by_groups = horse_data_fill\n",
        "fill_median_by_groups['respiratory_rate'].fillna(horse_data_fill.groupby(['age', 'pain'])['respiratory_rate'].transform('m"
      ],
      "metadata": {
        "id": "JfojLitJbW0Z"
      },
      "execution_count": null,
      "outputs": []
    },
    {
      "cell_type": "code",
      "source": [
        "print(horse_data_fill.groupby(['age', 'outcome'])['respiratory_rate'].median())\n",
        "fill_median_by_groups = horse_data_fill\n",
        "fill_median_by_groups['respiratory_rate'].fillna(horse_data_fill.groupby(['age', 'outcome'])['respiratory_rate'].transfor"
      ],
      "metadata": {
        "id": "SgcZu0QUbWtc"
      },
      "execution_count": null,
      "outputs": []
    },
    {
      "cell_type": "code",
      "source": [
        "print(horse_data_fill.groupby(['pain', 'surgery'])['respiratory_rate'].median())\n",
        "fill_median_by_groups = horse_data_fill\n",
        "fill_median_by_groups['respiratory_rate'].fillna(horse_data_fill.groupby(['pain', 'surgery'])['respiratory_rate'].transfo"
      ],
      "metadata": {
        "id": "LO5mIP7lbWlk"
      },
      "execution_count": null,
      "outputs": []
    },
    {
      "cell_type": "code",
      "source": [
        "print(horse_data_fill.groupby(['pain', 'age'])['respiratory_rate'].median())\n",
        "fill_median_by_groups = horse_data_fill\n",
        "fill_median_by_groups['respiratory_rate'].fillna(horse_data_fill.groupby(['pain', 'age'])['respiratory_rate'].transfor"
      ],
      "metadata": {
        "id": "SoBygvOPbl2o"
      },
      "execution_count": null,
      "outputs": []
    },
    {
      "cell_type": "code",
      "source": [
        "print(horse_data_fill.groupby(['pain', 'outcome'])['respiratory_rate'].median())\n",
        "fill_median_by_groups = horse_data_fill\n",
        "fill_median_by_groups['respiratory_rate'].fillna(horse_data_fill.groupby(['pain', 'outcome'])['respiratory_rate'].transfo"
      ],
      "metadata": {
        "id": "WgW7fAgYbWSV"
      },
      "execution_count": null,
      "outputs": []
    },
    {
      "cell_type": "code",
      "source": [
        "print(horse_data_fill.groupby(['outcome', 'surgery'])['respiratory_rate'].median())\n",
        "fill_median_by_groups = horse_data_fill\n",
        "fill_median_by_groups['respiratory_rate'].fillna(horse_data_fill.groupby(['outcome', 'surgery'])['respiratory_rate'].t"
      ],
      "metadata": {
        "id": "onNNSr5gbpfJ"
      },
      "execution_count": null,
      "outputs": []
    },
    {
      "cell_type": "code",
      "source": [
        "print(horse_data_fill.groupby(['outcome', 'age'])['respiratory_rate'].median())\n",
        "fill_median_by_groups = horse_data_fill\n",
        "fill_median_by_groups['respiratory_rate'].fillna(horse_data_fill.groupby(['outcome', 'age'])['respiratory_rate'].transform('"
      ],
      "metadata": {
        "id": "stkQXvDYbpYt"
      },
      "execution_count": null,
      "outputs": []
    },
    {
      "cell_type": "code",
      "source": [
        "print(horse_data_fill.groupby(['outcome', 'pain'])['temperature_of_extremities'].median())\n",
        "fill_median_by_groups = horse_data_fill\n",
        "fill_median_by_groups['respiratory_rate'].fillna(horse_data_fill.groupby(['outcome', 'pain'])['respiratory_rate'].transf"
      ],
      "metadata": {
        "id": "S4kc4kwPbsWJ"
      },
      "execution_count": null,
      "outputs": []
    },
    {
      "cell_type": "code",
      "source": [],
      "metadata": {
        "id": "D1206Cv2bsQJ"
      },
      "execution_count": null,
      "outputs": []
    },
    {
      "cell_type": "code",
      "source": [],
      "metadata": {
        "id": "-ej8tsvobpR1"
      },
      "execution_count": null,
      "outputs": []
    },
    {
      "cell_type": "code",
      "source": [],
      "metadata": {
        "id": "0DvK_GHobpJN"
      },
      "execution_count": null,
      "outputs": []
    }
  ]
}