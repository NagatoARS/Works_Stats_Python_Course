{
  "nbformat": 4,
  "nbformat_minor": 0,
  "metadata": {
    "colab": {
      "provenance": [],
      "authorship_tag": "ABX9TyM9t/lXi17Uy8CPbKck5nmF",
      "include_colab_link": true
    },
    "kernelspec": {
      "name": "python3",
      "display_name": "Python 3"
    },
    "language_info": {
      "name": "python"
    }
  },
  "cells": [
    {
      "cell_type": "markdown",
      "metadata": {
        "id": "view-in-github",
        "colab_type": "text"
      },
      "source": [
        "<a href=\"https://colab.research.google.com/github/NagatoARS/Works_Stats_Python_Course/blob/main/%D0%94%D0%B7_%D0%BF%D0%BE_%D0%BA%D0%BB%D0%B0%D1%81%D1%82%D0%B5%D1%80%D0%B8%D0%B7%D0%B0%D1%86%D0%B8%D0%B8.ipynb\" target=\"_parent\"><img src=\"https://colab.research.google.com/assets/colab-badge.svg\" alt=\"Open In Colab\"/></a>"
      ]
    },
    {
      "cell_type": "code",
      "execution_count": null,
      "metadata": {
        "id": "jmFPlBKe5w6f"
      },
      "outputs": [],
      "source": [
        "from sklearn.datasets import load_iris\n",
        "import pandas as pd\n",
        "import numpy as np\n",
        "import matplotlib.pyplot as plt\n",
        "from matplotlib import colors"
      ]
    },
    {
      "cell_type": "code",
      "source": [
        "iris = load_iris()\n",
        "print(iris.DESCR)\n",
        "iris"
      ],
      "metadata": {
        "id": "4inH0NdJRBLP"
      },
      "execution_count": null,
      "outputs": []
    },
    {
      "cell_type": "code",
      "source": [
        "df = pd.DataFrame(iris.data, columns=iris.feature_names)\n",
        "df = df[['sepal length (cm)', 'sepal width (cm)']]\n",
        "df['variety'] = iris['target']\n",
        "df"
      ],
      "metadata": {
        "id": "QLvgxwz_RBXf"
      },
      "execution_count": null,
      "outputs": []
    },
    {
      "cell_type": "code",
      "source": [
        "# разделение выборки на 2 типа:тренировочная и тестовая\n",
        "from sklearn.model_selection import train_test_split\n",
        "X_train, X_test, y_train, y_test = train_test_split(df, iris.target, test_size=0.25)"
      ],
      "metadata": {
        "id": "DGjkFoSzRBlh"
      },
      "execution_count": null,
      "outputs": []
    },
    {
      "cell_type": "code",
      "source": [
        "iris.target"
      ],
      "metadata": {
        "id": "Asy7wnugRPA1"
      },
      "execution_count": null,
      "outputs": []
    },
    {
      "cell_type": "code",
      "source": [
        "from sklearn.discriminant_analysis import LinearDiscriminantAnalysis\n",
        "lda = LinearDiscriminantAnalysis()"
      ],
      "metadata": {
        "id": "eLIE4L7CRPnA"
      },
      "execution_count": null,
      "outputs": []
    },
    {
      "cell_type": "code",
      "source": [
        "lda.fit(X_train, y_train)"
      ],
      "metadata": {
        "id": "aBEYXjNtRw7t"
      },
      "execution_count": null,
      "outputs": []
    },
    {
      "cell_type": "code",
      "source": [
        "lda.predict(X_test)"
      ],
      "metadata": {
        "id": "JtI3n4FPRywi"
      },
      "execution_count": null,
      "outputs": []
    },
    {
      "cell_type": "code",
      "source": [
        "result = pd.DataFrame([y_test, lda.predict(X_test)]).T\n",
        "result"
      ],
      "metadata": {
        "id": "FSspdPaAR0Pa"
      },
      "execution_count": null,
      "outputs": []
    },
    {
      "cell_type": "code",
      "source": [
        "from sklearn.metrics import accuracy_score\n",
        "accuracy_score(y_test, lda.predict(X_test))"
      ],
      "metadata": {
        "id": "1LnSVwEKR2jq"
      },
      "execution_count": null,
      "outputs": []
    },
    {
      "cell_type": "code",
      "source": [
        "# При каждом новом обучении даются разные результаты расчета точности от 0.72 до 0,86\n",
        "cmap = colors.LinearSegmentedColormap(\n",
        "    'red_blue_classes',\n",
        "    {'red': [(0, 1, 1), (1, 0.7, 0.7)],\n",
        "     'green': [(0, 0.7, 0.7), (1, 0.7, 0.7)],\n",
        "     'blue': [(0, 0.7, 0.7), (1, 1, 1)]})\n",
        "plt.cm.register_cmap(cmap=cmap)"
      ],
      "metadata": {
        "id": "E6HtD8u0R4u5"
      },
      "execution_count": null,
      "outputs": []
    },
    {
      "cell_type": "code",
      "source": [
        "# Визуализация тестовой выборки\n",
        "plt.scatter(X_test['sepal length (cm)'], X_test['sepal width (cm)'], c=y_test)\n",
        "plt.show()"
      ],
      "metadata": {
        "id": "Pl-qggTfR-Us"
      },
      "execution_count": null,
      "outputs": []
    },
    {
      "cell_type": "code",
      "source": [
        "y_pred = lda.predict(X_test)"
      ],
      "metadata": {
        "id": "7-WRn2AgR-0w"
      },
      "execution_count": null,
      "outputs": []
    },
    {
      "cell_type": "code",
      "source": [
        "# Визуализация предсказания для тестовой выборки\n",
        "plt.scatter(X_test['sepal length (cm)'], X_test['sepal width (cm)'], c=y_pred)\n",
        "plt.show()"
      ],
      "metadata": {
        "id": "C2TKuXzqSBCi"
      },
      "execution_count": null,
      "outputs": []
    },
    {
      "cell_type": "code",
      "source": [
        "lda = LinearDiscriminantAnalysis()\n",
        "lda.fit(X_test, y_pred)"
      ],
      "metadata": {
        "id": "1uR1TU4zSCQF"
      },
      "execution_count": null,
      "outputs": []
    },
    {
      "cell_type": "code",
      "source": [
        "# центры классов\n",
        "lda.means_"
      ],
      "metadata": {
        "id": "mn2M3kmJSCpJ"
      },
      "execution_count": null,
      "outputs": []
    },
    {
      "cell_type": "code",
      "source": [
        "# Визуализация предсказания для тестовой выборки и центры классов\n",
        "plt.scatter(X_test['sepal length (cm)'], X_test['sepal width (cm)'], c=y_pred)\n",
        "plt.scatter(lda.means_[:, 0], lda.means_[:, 1], c='r', s=150, marker='*')"
      ],
      "metadata": {
        "id": "qFSI5RlQSEJ5"
      },
      "execution_count": null,
      "outputs": []
    },
    {
      "cell_type": "code",
      "source": [
        "# Отбрасываем целевую переменную из df\n",
        "df2 = df[['sepal length (cm)', 'sepal width (cm)']]\n",
        "df2"
      ],
      "metadata": {
        "id": "u_z5G1DmSFgm"
      },
      "execution_count": null,
      "outputs": []
    },
    {
      "cell_type": "code",
      "source": [
        "# Подбираем оптимальное число кластеров для алгоритма kmeans и визуализируем полученную кластеризацию\n",
        "X = df2[['sepal length (cm)', 'sepal width (cm)']].to_numpy()\n",
        "X"
      ],
      "metadata": {
        "id": "S1-YFC4tSHef"
      },
      "execution_count": null,
      "outputs": []
    },
    {
      "cell_type": "code",
      "source": [
        "plt.scatter(X[:, 0], X[:, 1], cmap='autumn', s=60)"
      ],
      "metadata": {
        "id": "BSFANlh8SK6X"
      },
      "execution_count": null,
      "outputs": []
    },
    {
      "cell_type": "code",
      "source": [
        "df2.plot(kind='scatter', x='sepal length (cm)', y='sepal width (cm)')"
      ],
      "metadata": {
        "id": "FwU1d4hVSN80"
      },
      "execution_count": null,
      "outputs": []
    },
    {
      "cell_type": "code",
      "source": [
        "# приведем данные к единому масштабу\n",
        "from sklearn.preprocessing import StandardScaler"
      ],
      "metadata": {
        "id": "J0jxImd2SPee"
      },
      "execution_count": null,
      "outputs": []
    },
    {
      "cell_type": "code",
      "source": [
        "scaler = StandardScaler()"
      ],
      "metadata": {
        "id": "4JHdQAEdSPy_"
      },
      "execution_count": null,
      "outputs": []
    },
    {
      "cell_type": "code",
      "source": [
        "# fit-transform сразу обучается и преобразует данные\n",
        "X_scaled = scaler.fit_transform(X)\n",
        "X_scaled"
      ],
      "metadata": {
        "id": "HiggVssXSQ8E"
      },
      "execution_count": null,
      "outputs": []
    },
    {
      "cell_type": "code",
      "source": [
        "plt.scatter(X_scaled[:, 0], X_scaled[:, 1],cmap='autumn', s=60)"
      ],
      "metadata": {
        "id": "8bUKiwzBSSbL"
      },
      "execution_count": null,
      "outputs": []
    },
    {
      "cell_type": "code",
      "source": [
        "from sklearn.cluster import KMeans"
      ],
      "metadata": {
        "id": "0wVvlRq8SUNp"
      },
      "execution_count": null,
      "outputs": []
    },
    {
      "cell_type": "code",
      "source": [
        "# явно указываем количество кластеров\n",
        "kmeans = KMeans(n_clusters=2)\n",
        "# fit_predict обучается на данных и каждому объекту присваивает кластер\n",
        "clusters = kmeans.fit_predict(X_scaled)\n",
        "clusters"
      ],
      "metadata": {
        "id": "WIMxtVfRSVsw"
      },
      "execution_count": null,
      "outputs": []
    },
    {
      "cell_type": "code",
      "source": [
        "plt.scatter(X_scaled[:, 0], X_scaled[:, 1], cmap='autumn', c=clusters, s=60)"
      ],
      "metadata": {
        "id": "u93DX3vySW6N"
      },
      "execution_count": null,
      "outputs": []
    },
    {
      "cell_type": "code",
      "source": [
        "# строим график локтя\n",
        "\n",
        "# создаем список для инерции\n",
        "k_inertia = []\n",
        "# задаем диапазон кластеров\n",
        "ks = range(1, 20)\n",
        "\n",
        "for k in ks:\n",
        "    clf_kmeans = KMeans(n_clusters=k)\n",
        "    clusters_kmeans = clf_kmeans.fit_predict(X_scaled)\n",
        "    # добавляем инерцию каждой модели в список\n",
        "    k_inertia.append(clf_kmeans.inertia_)"
      ],
      "metadata": {
        "id": "egK1L-ZGSYF5"
      },
      "execution_count": null,
      "outputs": []
    },
    {
      "cell_type": "code",
      "source": [
        "plt.plot(ks, k_inertia)\n",
        "plt.plot(ks, k_inertia ,'ro')"
      ],
      "metadata": {
        "id": "YslSnHu5SZt0"
      },
      "execution_count": null,
      "outputs": []
    },
    {
      "cell_type": "code",
      "source": [
        "from scipy.spatial.distance import pdist\n",
        "from scipy.cluster import hierarchy\n",
        "\n",
        "# строим дендрограмму\n",
        "distance_mat = pdist(X_scaled) # pdist посчитает нам матрицу попарных расстояний между точками\n",
        "# Z = hierarchy.linkage(distance_mat) # linkage — реализация агломеративного алгоритма\n",
        "Z = hierarchy.linkage(distance_mat, 'ward')\n",
        "plt.figure(figsize=(20, 9))\n",
        "dn = hierarchy.dendrogram(Z)"
      ],
      "metadata": {
        "id": "zKQGM0KgSava"
      },
      "execution_count": null,
      "outputs": []
    }
  ]
}