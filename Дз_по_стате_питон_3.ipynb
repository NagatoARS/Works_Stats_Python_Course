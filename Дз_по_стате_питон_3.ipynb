{
  "nbformat": 4,
  "nbformat_minor": 0,
  "metadata": {
    "colab": {
      "provenance": [],
      "authorship_tag": "ABX9TyMKeIxldeKsRyydT2ssp287",
      "include_colab_link": true
    },
    "kernelspec": {
      "name": "python3",
      "display_name": "Python 3"
    },
    "language_info": {
      "name": "python"
    }
  },
  "cells": [
    {
      "cell_type": "markdown",
      "metadata": {
        "id": "view-in-github",
        "colab_type": "text"
      },
      "source": [
        "<a href=\"https://colab.research.google.com/github/NagatoARS/Works_Stats_Python_Course/blob/main/%D0%94%D0%B7_%D0%BF%D0%BE_%D1%81%D1%82%D0%B0%D1%82%D0%B5_%D0%BF%D0%B8%D1%82%D0%BE%D0%BD_3.ipynb\" target=\"_parent\"><img src=\"https://colab.research.google.com/assets/colab-badge.svg\" alt=\"Open In Colab\"/></a>"
      ]
    },
    {
      "cell_type": "code",
      "source": [
        "import numpy as np\n",
        "games = 100      \n",
        "profit = 0      \n",
        "profit_list = []\n",
        "\n",
        "for x in range(games):\n",
        "    trials = 5000    \n",
        "    result = 0       \n",
        "    results_list = []\n",
        "    for i in range(trials):\n",
        "        random_score = np.random.randint(0, 1000)    \n",
        "        if random_score == 999:\n",
        "            results_list.append(100)\n",
        "        elif random_score == 777:\n",
        "            results_list.append(200)\n",
        "        elif random_score == 555:\n",
        "            results_list.append(50)\n",
        "        elif random_score == 333:\n",
        "            results_list.append(15)\n",
        "        elif random_score == 111:\n",
        "            results_list.append(10)\n",
        "        elif random_score % 100 == 77:\n",
        "            results_list.append(5)\n",
        "        elif random_score % 10 == 7:\n",
        "            results_list.append(3)        \n",
        "        elif random_score % 100 == 0:\n",
        "            results_list.append(2)\n",
        "        elif random_score % 10 == 0:\n",
        "            results_list.append(1)\n",
        "        else:\n",
        "            results_list.append(0)\n",
        "            result += 1\n",
        "    profit = sum(results_list) - trials\n",
        "    profit_list.append(profit)\n",
        "    profit += 1\n",
        "avarage_profit = round(sum(profit_list) / games)\n",
        "if avarage_profit > 0:\n",
        "    print('Игра, в среднем, выгодна. В среднем выигрыш составляет:', avarage_profit, 'руб. c', trials, 'руб.')\n",
        "else:\n",
        "    print('Игра, в среднем, не выгодна. В среднем проигрыш составляет:', avarage_profit, 'руб. c', trials, 'руб.')"
      ],
      "metadata": {
        "colab": {
          "base_uri": "https://localhost:8080/"
        },
        "id": "VlbPq6rWZQfa",
        "outputId": "919f6ac2-25c1-4d56-d7ed-5f63db53a5bc"
      },
      "execution_count": null,
      "outputs": [
        {
          "output_type": "stream",
          "name": "stdout",
          "text": [
            "Игра, в среднем, не выгодна. В среднем проигрыш составляет: -1045 руб. c 5000 руб.\n"
          ]
        }
      ]
    },
    {
      "cell_type": "code",
      "source": [
        "X_average = 0.001*200 + 0.001*100 + 0.001*50 + 0.001*15 + 0.001*10 + 0.009*5 + 0.09*3 + 0.01*2 + 0.09*1 \n",
        "X_average"
      ],
      "metadata": {
        "id": "Iqy7Ld7HZiS1",
        "outputId": "a5a3e750-a2af-4135-ef5a-d33d46909eb2",
        "colab": {
          "base_uri": "https://localhost:8080/"
        }
      },
      "execution_count": null,
      "outputs": [
        {
          "output_type": "execute_result",
          "data": {
            "text/plain": [
              "0.8"
            ]
          },
          "metadata": {},
          "execution_count": 13
        }
      ]
    }
  ]
}